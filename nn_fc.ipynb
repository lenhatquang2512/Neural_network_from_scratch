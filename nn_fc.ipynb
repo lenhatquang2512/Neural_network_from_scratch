{
 "cells": [
  {
   "cell_type": "code",
   "execution_count": 2,
   "metadata": {},
   "outputs": [],
   "source": [
    "import numpy as np \n",
    "from sklearn.datasets import fetch_openml\n",
    "import matplotlib.pyplot as plt "
   ]
  },
  {
   "cell_type": "code",
   "execution_count": 1,
   "metadata": {},
   "outputs": [],
   "source": [
    "# Load data from https://www.openml.org/d/554\n",
    "X, y = fetch_openml('mnist_784', version=1, return_X_y=True, as_frame=False)\n",
    "\n",
    "# plot one random digital image\n",
    "# plt.title('The 8th image is a {label}'.format(label=int(y[8]))) \n",
    "# plt.imshow(X[8,:].reshape((28,28)), cmap='gray')\n",
    "# plt.show()"
   ]
  },
  {
   "cell_type": "code",
   "execution_count": 2,
   "metadata": {},
   "outputs": [
    {
     "name": "stdout",
     "output_type": "stream",
     "text": [
      "[['5' 0.0 0.0 0.0 0.0 0.0 0.0 0.0 0.0 0.0]\n",
      " ['0' 0.0 0.0 0.0 0.0 0.0 0.0 0.0 0.0 0.0]\n",
      " ['4' 0.0 0.0 0.0 0.0 0.0 0.0 0.0 0.0 0.0]\n",
      " ['1' 0.0 0.0 0.0 0.0 0.0 0.0 0.0 0.0 0.0]\n",
      " ['9' 0.0 0.0 0.0 0.0 0.0 0.0 0.0 0.0 0.0]]\n"
     ]
    }
   ],
   "source": [
    "# reshape y to have shape (70000, 1)\n",
    "y = y.reshape(-1, 1)\n",
    "\n",
    "data = np.concatenate((y,X),axis=1)\n",
    "\n",
    "print(data[:5,:10]) # check first 5 images and their first 9 pixels"
   ]
  },
  {
   "cell_type": "code",
   "execution_count": 3,
   "metadata": {},
   "outputs": [],
   "source": [
    "m,n = data.shape\n",
    "data = np.array(data)\n",
    "np.random.shuffle(data)"
   ]
  },
  {
   "cell_type": "code",
   "execution_count": 4,
   "metadata": {},
   "outputs": [
    {
     "name": "stdout",
     "output_type": "stream",
     "text": [
      "m = 70000,n = 785\n"
     ]
    }
   ],
   "source": [
    "print(f\"m = {m},n = {n}\")"
   ]
  },
  {
   "cell_type": "code",
   "execution_count": 5,
   "metadata": {},
   "outputs": [],
   "source": [
    "data_dev = data[0:1000,:].T\n",
    "data_train = data[1000:m,:].T"
   ]
  },
  {
   "cell_type": "code",
   "execution_count": 6,
   "metadata": {},
   "outputs": [],
   "source": [
    "Y_dev = data_dev[0,:]\n",
    "X_dev = data_dev[1:n,:]\n",
    "Y_train = data_train[0,:]\n",
    "X_train = data_train[1:n,:]\n",
    "# Convert string labels to integers\n",
    "Y_train = Y_train.astype(np.int64)\n",
    "Y_dev = Y_dev.astype(np.int64)\n",
    "\n",
    "X_dev = X_dev / 255.\n",
    "X_train = X_train / 255.\n"
   ]
  },
  {
   "cell_type": "code",
   "execution_count": 7,
   "metadata": {},
   "outputs": [],
   "source": [
    "X_train[:,0].shape\n",
    "W1 = np.random.rand(10,784)"
   ]
  },
  {
   "cell_type": "code",
   "execution_count": 3,
   "metadata": {},
   "outputs": [],
   "source": [
    "def param_init():\n",
    "    W1 = np.random.rand(10, 784) - 0.5\n",
    "    b1 = np.random.rand(10, 1) - 0.5\n",
    "    W2 = np.random.rand(10, 10) - 0.5\n",
    "    b2 = np.random.rand(10, 1) - 0.5\n",
    "    return W1,b1,W2,b2\n",
    "\n",
    "def ReLU(Z):\n",
    "    return np.maximum(Z, 0)\n",
    "\n",
    "def softmax(Z):\n",
    "    # return np.exp(Z)/ sum(np.exp(Z))\n",
    "    Z = np.array(Z, dtype=float)\n",
    "    A = np.exp(Z) / sum(np.exp(Z))\n",
    "    return A\n",
    "\n",
    "\n",
    "# def softmax(Z):\n",
    "#     Z = np.array(Z, dtype=float)\n",
    "#     eZ = np.exp(Z - np.max(Z))\n",
    "#     return eZ / np.sum(eZ, axis=0, keepdims=True)\n",
    "\n",
    "\n",
    "def forward_propagation(W1,b1,W2,b2,X):\n",
    "    A0 = X\n",
    "    Z1 = W1.dot(A0) + b1\n",
    "    A1 = ReLU(Z1)\n",
    "    Z2 = W2.dot(A1) + b2\n",
    "    A2 = softmax(Z2)\n",
    "    # A0 = X\n",
    "    # Z1 = np.dot(W1, A0) + b1\n",
    "    # A1 = ReLU(Z1)\n",
    "    # Z2 = np.dot(W2, A1) + b2\n",
    "    # A2 = softmax(Z2)\n",
    "    return Z1, A1, Z2, A2\n",
    "\n",
    "def one_hot_encoder(Y):\n",
    "    one_hot_Y = np.zeros((Y.size, Y.max() + 1))\n",
    "    one_hot_Y[np.arange(Y.size), Y] = 1\n",
    "    one_hot_Y = one_hot_Y.T\n",
    "    return one_hot_Y\n",
    "\n",
    "def deriv_ReLU(Z):\n",
    "    return Z > 0\n",
    "\n",
    "def backward_propagation(Z1,A1,Z2,A2,W2,X,Y):\n",
    "    one_hot_Y = one_hot_encoder(Y)\n",
    "    dZ2  = A2 - one_hot_Y\n",
    "    dW2 = (1/m) * dZ2.dot(A1.T)\n",
    "    db2 = (1/m) * np.sum(dZ2,axis=1).reshape(-1,1)\n",
    "    dZ1 = (W2.T).dot(dZ2) * deriv_ReLU(Z1)\n",
    "    dW1 = (1/m) * dZ1.dot(X.T)\n",
    "    db1 = (1/m) * np.sum(dZ1,axis=1).reshape(-1,1) \n",
    "    return dW1, db1, dW2, db2\n",
    "\n",
    "\n",
    "def update_params(W1,b1,W2,b2, dW1,db1, dW2,db2,alpha):\n",
    "    W1 = W1 - alpha * dW1\n",
    "    b1 = b1 - alpha * db1\n",
    "    W2 = W2 - alpha * dW2\n",
    "    b2 = b2 - alpha * db2\n",
    "    return W1,b1,W2,b2\n",
    "\n",
    "def get_predictions(A2):\n",
    "    return np.argmax(A2,0)\n",
    "\n",
    "def get_accuracy(predictions, Y):\n",
    "    print(predictions,Y)\n",
    "    return np.sum(predictions == Y)/ Y.size\n",
    "\n",
    "\n",
    "def gradient_descent(X,Y,iterations,alpha):\n",
    "    W1,b1,W2, b2 = param_init()\n",
    "    for i in range(iterations):\n",
    "        Z1, A1, Z2, A2 = forward_propagation(W1,b1,W2,b2,X)\n",
    "        dW1, db1, dW2, db2 = backward_propagation(Z1,A1,Z2,A2,W2,X,Y)\n",
    "        W1,b1,W2,b2 = update_params(W1,b1,W2,b2, dW1,db1, dW2,db2,alpha)\n",
    "        if(i % 50 == 0):\n",
    "            print(\"Iteration : \",i)\n",
    "            print(\"Accuracy L: \",get_accuracy(get_predictions(A2),Y))\n",
    "    return W1,b1,W2,b2\n",
    "\n",
    "\n",
    "\n",
    "\n",
    "\n",
    "\n",
    "\n",
    "\n"
   ]
  },
  {
   "cell_type": "code",
   "execution_count": 11,
   "metadata": {},
   "outputs": [
    {
     "name": "stdout",
     "output_type": "stream",
     "text": [
      "Iteration :  0\n",
      "[0 0 0 ... 0 0 0] [9 3 2 ... 0 8 6]\n",
      "Accuracy L:  0.07069565217391305\n",
      "Iteration :  50\n",
      "[4 3 6 ... 2 1 2] [9 3 2 ... 0 8 6]\n",
      "Accuracy L:  0.42469565217391303\n",
      "Iteration :  100\n",
      "[4 3 6 ... 0 8 6] [9 3 2 ... 0 8 6]\n",
      "Accuracy L:  0.5959420289855073\n",
      "Iteration :  150\n",
      "[9 3 6 ... 0 8 6] [9 3 2 ... 0 8 6]\n",
      "Accuracy L:  0.6824202898550724\n",
      "Iteration :  200\n",
      "[9 3 2 ... 0 8 6] [9 3 2 ... 0 8 6]\n",
      "Accuracy L:  0.7356811594202899\n",
      "Iteration :  250\n",
      "[9 3 2 ... 0 8 6] [9 3 2 ... 0 8 6]\n",
      "Accuracy L:  0.7692028985507247\n",
      "Iteration :  300\n",
      "[9 3 2 ... 0 8 6] [9 3 2 ... 0 8 6]\n",
      "Accuracy L:  0.7925507246376812\n",
      "Iteration :  350\n",
      "[9 3 2 ... 0 8 6] [9 3 2 ... 0 8 6]\n",
      "Accuracy L:  0.8102173913043478\n",
      "Iteration :  400\n",
      "[9 3 2 ... 0 8 6] [9 3 2 ... 0 8 6]\n",
      "Accuracy L:  0.8239275362318841\n",
      "Iteration :  450\n",
      "[9 3 2 ... 0 8 6] [9 3 2 ... 0 8 6]\n",
      "Accuracy L:  0.8351594202898551\n"
     ]
    }
   ],
   "source": [
    "W1,b1,W2,b2 = gradient_descent(X_train, Y_train, 500,0.1)"
   ]
  },
  {
   "cell_type": "code",
   "execution_count": 12,
   "metadata": {},
   "outputs": [],
   "source": [
    "import dill\n",
    "dill.dump_session('nn_fc_notebook.dill')"
   ]
  },
  {
   "cell_type": "code",
   "execution_count": 1,
   "metadata": {},
   "outputs": [],
   "source": [
    "#to reload session\n",
    "import dill\n",
    "dill.load_session('nn_fc_notebook.dill')"
   ]
  },
  {
   "cell_type": "code",
   "execution_count": 4,
   "metadata": {},
   "outputs": [],
   "source": [
    "def make_predictions(X, W1, b1, W2, b2):\n",
    "    _, _, _, A2 = forward_propagation(W1, b1, W2, b2, X)\n",
    "    predictions = get_predictions(A2)\n",
    "    return predictions\n",
    "\n",
    "def test_prediction(index, W1, b1, W2, b2):\n",
    "    current_image = X_train[:, index, None]\n",
    "    prediction = make_predictions(X_train[:, index, None], W1, b1, W2, b2)\n",
    "    label = Y_train[index]\n",
    "    print(\"Prediction: \", prediction)\n",
    "    print(\"Label: \", label)\n",
    "    \n",
    "    current_image = current_image.reshape((28, 28)) * 255\n",
    "    current_image = np.array(current_image, dtype=float)\n",
    "    # plt.gray()\n",
    "    plt.imshow(current_image, cmap='gray')\n",
    "    plt.show()\n"
   ]
  },
  {
   "cell_type": "code",
   "execution_count": 6,
   "metadata": {},
   "outputs": [
    {
     "name": "stdout",
     "output_type": "stream",
     "text": [
      "Prediction:  [1]\n",
      "Label:  1\n"
     ]
    },
    {
     "data": {
      "image/png": "[encoded data removed]",
      "text/plain": [
       "<Figure size 640x480 with 1 Axes>"
      ]
     },
     "metadata": {},
     "output_type": "display_data"
    },
    {
     "name": "stdout",
     "output_type": "stream",
     "text": [
      "Prediction:  [5]\n",
      "Label:  5\n"
     ]
    },
    {
     "data": {
      "image/png": "[encoded data removed]",
      "text/plain": [
       "<Figure size 640x480 with 1 Axes>"
      ]
     },
     "metadata": {},
     "output_type": "display_data"
    }
   ],
   "source": [
    "test_prediction(64000,W1,b1,W2,b2)\n",
    "test_prediction(3,W1,b1,W2,b2)"
   ]
  },
  {
   "cell_type": "code",
   "execution_count": 8,
   "metadata": {},
   "outputs": [
    {
     "name": "stdout",
     "output_type": "stream",
     "text": [
      "[0 7 4 5 9 8 8 9 0 0 3 0 4 0 7 4 3 1 5 1 7 7 5 9 1 0 4 5 1 9 5 0 4 3 0 1 0\n",
      " 3 3 1 7 4 6 9 7 3 6 4 7 2 0 2 2 8 6 8 1 7 5 0 5 9 4 4 2 4 9 1 7 9 7 8 8 7\n",
      " 2 9 3 6 3 6 5 1 9 7 5 5 8 0 3 5 6 0 6 6 8 9 8 5 1 1 1 9 9 0 3 2 7 5 7 7 5\n",
      " 6 6 1 9 8 8 8 7 2 2 3 1 9 2 0 3 1 5 1 4 4 9 9 0 0 6 7 5 4 8 6 4 4 1 1 8 0\n",
      " 0 0 6 1 1 0 7 4 2 4 3 7 1 9 3 2 9 2 3 4 2 3 5 7 4 0 4 6 6 7 4 2 3 7 3 7 1\n",
      " 1 6 5 1 7 4 2 1 4 8 1 9 0 8 9 1 0 6 8 4 0 1 0 1 7 6 7 4 7 5 8 0 9 4 9 2 5\n",
      " 5 5 6 0 4 0 4 2 0 4 3 3 2 0 9 6 7 5 1 2 9 2 4 2 6 6 9 7 5 4 1 7 3 0 7 9 7\n",
      " 5 2 9 0 9 1 8 7 7 9 8 0 7 5 4 3 8 6 4 3 0 3 1 7 2 3 9 3 4 5 5 0 7 8 4 2 1\n",
      " 7 8 1 4 7 6 8 6 4 3 0 2 7 0 3 2 4 2 3 8 9 9 0 2 9 6 5 9 6 8 4 1 3 0 8 9 1\n",
      " 7 1 3 3 7 2 5 2 8 1 4 7 8 7 0 5 2 8 9 4 1 7 2 7 9 3 8 3 7 7 1 7 4 8 6 6 3\n",
      " 1 1 5 5 2 7 1 0 9 5 0 2 6 7 4 5 2 8 6 7 4 4 3 3 8 8 6 6 9 5 9 5 0 1 2 1 7\n",
      " 9 0 4 5 8 5 3 2 2 9 8 6 0 1 8 0 5 0 3 6 8 9 1 5 3 4 7 7 8 5 5 1 4 2 3 3 1\n",
      " 1 0 0 8 3 4 2 4 3 8 6 0 7 6 8 5 6 4 2 6 2 5 7 9 1 1 7 7 6 5 8 8 8 2 1 7 6\n",
      " 8 7 0 3 8 0 8 7 6 3 6 2 7 1 8 4 4 6 8 1 2 5 5 0 3 9 3 9 6 0 2 1 3 6 4 0 7\n",
      " 4 2 9 4 4 1 0 9 6 3 6 8 1 8 9 5 0 8 3 7 7 5 3 8 3 7 2 0 4 8 8 1 1 5 0 7 4\n",
      " 9 0 2 8 8 3 9 3 4 0 0 1 7 0 7 4 2 5 0 9 7 1 7 0 0 4 2 1 7 3 1 8 6 7 8 1 9\n",
      " 1 4 0 2 7 7 0 6 5 0 8 1 4 8 4 0 0 9 4 7 7 9 6 2 0 4 7 4 2 6 1 8 1 6 1 7 6\n",
      " 8 8 2 1 7 8 8 3 7 9 8 4 4 1 9 6 1 9 7 2 5 1 4 7 0 9 6 9 5 6 4 1 0 7 4 4 9\n",
      " 5 3 9 4 3 5 1 1 2 7 5 1 1 4 6 9 3 5 9 0 2 5 1 4 2 3 7 0 1 7 1 5 8 7 9 0 8\n",
      " 6 4 1 7 9 6 2 1 3 8 5 8 9 0 4 5 7 7 2 1 0 6 3 4 2 7 4 2 6 9 2 2 6 1 7 6 7\n",
      " 4 0 0 5 7 2 8 8 3 0 6 1 3 1 9 2 1 6 8 1 4 0 1 8 8 0 4 0 2 4 6 1 5 7 0 2 7\n",
      " 7 0 4 2 0 6 6 6 1 0 2 2 1 0 3 9 3 3 6 2 3 1 8 5 1 6 1 3 8 5 6 3 0 5 7 6 8\n",
      " 5 8 0 4 3 7 9 7 6 9 8 2 2 2 5 0 0 9 3 7 0 5 0 5 5 1 6 2 6 8 6 0 2 1 5 7 9\n",
      " 7 3 0 3 1 5 2 5 5 0 6 4 9 2 7 4 2 8 3 0 4 3 0 0 3 3 2 2 2 4 7 3 1 5 0 3 8\n",
      " 4 6 9 0 3 8 7 6 1 7 6 3 8 0 5 7 6 6 1 8 3 8 4 3 5 8 0 9 9 5 1 7 1 8 9 8 7\n",
      " 1 3 1 3 1 6 9 6 9 0 1 6 4 9 3 9 6 2 4 8 8 9 7 6 3 8 1 2 6 7 1 5 4 7 3 1 3\n",
      " 6 6 6 3 7 9 5 8 6 3 1 6 5 0 4 2 1 6 0 0 6 8 5 4 3 1 3 4 5 6 6 9 6 6 0 8 5\n",
      " 5] [0 7 4 3 9 5 8 9 0 0 3 0 4 0 8 9 3 1 5 1 7 8 5 4 1 0 4 5 2 6 5 0 4 3 0 1 6\n",
      " 3 3 1 7 4 6 7 7 3 6 4 7 6 5 2 2 9 6 5 7 7 3 0 8 9 9 4 5 4 9 1 7 9 7 9 5 7\n",
      " 2 9 3 6 3 6 3 1 4 7 3 5 8 0 3 8 6 0 6 6 8 9 8 0 1 1 7 9 9 0 5 2 7 3 7 7 5\n",
      " 6 6 1 4 5 8 2 7 2 2 5 6 9 7 0 3 1 5 1 4 4 9 9 0 0 6 7 0 4 8 6 4 4 1 1 8 0\n",
      " 0 0 6 1 1 0 7 4 2 4 5 9 1 4 3 2 4 2 3 4 2 9 5 7 4 0 2 6 6 9 4 2 3 7 8 7 3\n",
      " 1 6 5 1 7 4 2 1 4 8 1 9 0 8 9 1 7 6 8 4 0 1 5 1 7 6 7 4 7 8 8 0 9 4 9 2 5\n",
      " 5 5 6 0 2 0 4 2 0 4 3 3 2 0 9 6 7 3 1 0 9 2 4 2 6 6 9 3 8 4 1 7 3 0 7 9 7\n",
      " 5 3 9 9 9 1 8 7 7 6 7 0 7 5 8 3 8 6 4 3 0 5 1 7 2 8 9 3 4 5 5 0 0 8 4 2 1\n",
      " 7 8 1 4 7 6 8 6 2 3 0 8 9 0 3 2 4 2 3 5 9 9 0 9 4 6 5 9 6 3 4 1 3 0 8 9 1\n",
      " 1 1 3 3 7 2 5 2 8 1 4 7 8 7 0 5 2 8 7 4 1 9 2 7 9 3 8 3 7 7 1 7 4 5 6 6 3\n",
      " 1 1 5 5 2 7 1 0 9 5 0 2 6 7 4 6 2 8 6 2 4 4 3 3 8 8 6 6 9 9 9 8 0 1 2 1 7\n",
      " 9 0 4 5 8 5 3 2 3 4 8 6 9 1 8 0 5 0 3 6 3 9 1 6 3 3 7 7 8 5 5 1 6 2 3 5 1\n",
      " 1 0 0 8 3 4 2 4 3 8 6 0 2 6 8 2 2 4 2 6 2 3 7 9 1 1 7 7 6 5 8 8 8 2 1 7 6\n",
      " 8 7 0 3 8 0 8 7 6 3 6 2 7 1 0 4 4 6 1 1 2 5 5 0 5 9 5 9 6 0 2 1 3 6 4 0 7\n",
      " 4 1 9 5 4 1 0 9 6 5 6 3 1 2 9 8 5 8 3 7 7 6 3 8 5 7 0 0 9 8 8 1 1 5 0 7 8\n",
      " 9 0 2 8 8 3 9 8 4 0 0 8 7 0 7 4 2 5 0 9 7 1 7 0 3 4 2 1 7 3 1 3 6 7 8 1 9\n",
      " 1 4 0 2 7 7 9 6 8 0 8 1 4 3 4 0 0 9 4 7 7 7 6 3 0 4 9 4 2 6 1 8 1 6 1 7 6\n",
      " 8 8 2 1 7 8 8 3 7 9 8 5 4 1 9 6 1 4 9 2 5 1 4 7 0 9 5 9 6 6 4 1 0 1 4 4 9\n",
      " 5 3 4 4 3 5 1 8 2 5 5 1 1 4 6 9 3 5 9 0 2 8 9 4 2 3 7 0 1 7 1 5 8 7 9 0 8\n",
      " 6 4 1 7 9 6 2 1 5 8 5 3 9 5 4 5 7 7 2 8 0 6 3 4 8 7 4 2 6 8 2 2 6 1 7 6 7\n",
      " 4 5 0 5 7 2 5 8 3 0 6 1 3 1 9 0 1 6 8 1 4 0 1 8 8 0 4 0 2 4 6 8 5 7 5 3 7\n",
      " 7 0 4 2 0 6 2 6 1 0 2 2 1 0 3 9 9 3 6 2 7 1 8 5 3 6 1 3 5 5 6 3 0 5 7 6 8\n",
      " 5 8 0 5 3 7 9 9 2 9 8 2 2 2 3 0 0 9 8 7 0 5 0 5 5 1 6 2 6 8 5 0 9 1 5 7 9\n",
      " 7 3 0 3 1 5 2 5 5 0 6 4 4 2 7 4 2 8 3 0 4 3 0 0 3 3 2 2 2 9 7 3 1 5 0 3 1\n",
      " 4 6 9 0 3 8 7 6 7 7 6 3 1 0 5 7 6 6 1 2 3 8 4 3 5 8 0 9 9 5 1 7 1 8 9 8 7\n",
      " 1 3 1 3 1 6 7 6 9 0 7 6 4 9 5 9 6 2 4 8 0 9 7 6 3 2 1 2 6 7 1 5 4 7 3 1 3\n",
      " 6 6 6 5 7 9 5 8 6 9 1 6 5 0 4 2 1 6 0 0 6 8 3 7 3 1 3 4 5 6 6 9 6 6 5 8 5\n",
      " 0]\n"
     ]
    },
    {
     "data": {
      "text/plain": [
       "0.834"
      ]
     },
     "execution_count": 8,
     "metadata": {},
     "output_type": "execute_result"
    }
   ],
   "source": [
    "dev_predictions = make_predictions(X_dev,W1,b1,W2,b2)\n",
    "get_accuracy(dev_predictions,Y_dev)"
   ]
  }
 ],
 "metadata": {
  "kernelspec": {
   "display_name": "project_vir_env",
   "language": "python",
   "name": "python3"
  },
  "language_info": {
   "codemirror_mode": {
    "name": "ipython",
    "version": 3
   },
   "file_extension": ".py",
   "mimetype": "text/x-python",
   "name": "python",
   "nbconvert_exporter": "python",
   "pygments_lexer": "ipython3",
   "version": "3.8.10"
  }
 },
 "nbformat": 4,
 "nbformat_minor": 2
}
